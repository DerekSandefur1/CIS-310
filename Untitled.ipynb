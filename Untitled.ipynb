{
 "cells": [
  {
   "cell_type": "code",
   "execution_count": null,
   "metadata": {},
   "outputs": [],
   "source": [
    "Derek Sandefur\n",
    "01/20/2024\n",
    "Python - Practice String\n",
    "\n",
    "# 1 formatiing output using the percent specifier sign %\n",
    "print(\"The quick brown %s jumps over the lazy dog\" %'cat')\n",
    "\n",
    "print(\"The quick brown %s jumps over the lazy %s\" %('cat', 'dog'))\n",
    "\n",
    "name1, name2 = 'cat', 'fox'\n",
    "\n",
    "print(\"The quick brown %s jumps over the lazy %s\" %(name1,name2))\n",
    "\n",
    "print(\"The quick brown 'cat' jumps over the lazy dog\")\n",
    "\n",
    "print(\"The quick brown %r jumps over the lazy dog\" %'cat')\n",
    "\n"
   ]
  }
 ],
 "metadata": {
  "kernelspec": {
   "display_name": "Python 3.7 - default",
   "language": "python",
   "name": "py37_default"
  },
  "language_info": {
   "codemirror_mode": {
    "name": "ipython",
    "version": 3
   },
   "file_extension": ".py",
   "mimetype": "text/x-python",
   "name": "python",
   "nbconvert_exporter": "python",
   "pygments_lexer": "ipython3",
   "version": "3.7.7"
  }
 },
 "nbformat": 4,
 "nbformat_minor": 4
}
