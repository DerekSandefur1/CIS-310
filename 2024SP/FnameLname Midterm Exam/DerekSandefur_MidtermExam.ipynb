{
 "cells": [
  {
   "cell_type": "markdown",
   "metadata": {},
   "source": [
    "# Derek Sandefur\n",
    "## 836443140\n",
    "### 3/21/2024\n"
   ]
  },
  {
   "cell_type": "code",
   "execution_count": null,
   "metadata": {},
   "outputs": [],
   "source": [
    "num1 = int(input(\"Enter the first integer:\\n\"))\n",
    "num2 = int(input(\"Enter the second integer:\\n\"))"
   ]
  },
  {
   "cell_type": "code",
   "execution_count": null,
   "metadata": {},
   "outputs": [],
   "source": [
    "if num2 < num1:\n",
    "    print(\"Second integer can't be less than the first.\")\n",
    "else:\n",
    "    for i in range(num1, num2 + 1, 5):\n",
    "        print(i, end=\" \")"
   ]
  },
  {
   "cell_type": "code",
   "execution_count": null,
   "metadata": {},
   "outputs": [],
   "source": [
    "service_cost = {\n",
    "   'Oil change': 35,\n",
    "   'Tire rotation': 19,\n",
    "   'Car wash': 7"
   ]
  },
  {
   "cell_type": "code",
   "execution_count": null,
   "metadata": {},
   "outputs": [],
   "source": [
    "service_choice = input(\"Enter desired auto service:\\n\")\n",
    "print(\"\\nYou entered:\", service_choice)"
   ]
  },
  {
   "cell_type": "code",
   "execution_count": null,
   "metadata": {},
   "outputs": [],
   "source": [
    "if service_choice in service_cost:\n",
    "    print(\"Cost of {} : ${}\".format(service_choice, service_cost[service_choice]))\n",
    "else:\n",
    "    print(\"Error: Requested service is not recognized\")\n"
   ]
  },
  {
   "cell_type": "code",
   "execution_count": null,
   "metadata": {},
   "outputs": [],
   "source": [
    "def up_low(s):\n",
    "    upper_count = 0\n",
    "    lower_count = 0"
   ]
  },
  {
   "cell_type": "code",
   "execution_count": null,
   "metadata": {},
   "outputs": [],
   "source": [
    "for char in s:\n",
    "     if char.isupper():\n",
    "            upper_count += 1\n",
    "               elif char.islower():\n",
    "            lower_count += 1"
   ]
  },
  {
   "cell_type": "code",
   "execution_count": null,
   "metadata": {},
   "outputs": [],
   "source": [
    " print(\"No. of Upper case characters :\", upper_count)\n",
    "    print(\"No. of Lower case Characters :\", lower_count)"
   ]
  },
  {
   "cell_type": "code",
   "execution_count": null,
   "metadata": {},
   "outputs": [],
   "source": [
    "s = 'Hello Mr. Rogers, how are you this fine Tuesday?'\n",
    "up_low(s)"
   ]
  },
  {
   "cell_type": "code",
   "execution_count": null,
   "metadata": {},
   "outputs": [],
   "source": [
    "people = [(\"Michele\", \"Vallisneri\", \"July 15\"),\n",
    "          (\"Albert\", \"Einstein\", \"March 14\"),\n",
    "          (\"John\", \"Lennon\", \"October 9\"),\n",
    "          (\"Jocelyn\", \"Bell Burnell\", \"July 15\")]"
   ]
  },
  {
   "cell_type": "code",
   "execution_count": null,
   "metadata": {},
   "outputs": [],
   "source": [
    "new_people = [{'fName': person[0], 'lName': person[1], 'mdBirth': person[2]} for person in people]\n",
    "print(new_people)"
   ]
  },
  {
   "cell_type": "code",
   "execution_count": null,
   "metadata": {},
   "outputs": [],
   "source": [
    "books = [{\"Title\":\"Angels and Demons\", \"Author\":\"Dan Brown\", \"Price\":500},\n",
    "         {\"Title\":\"Gone Girl\", \"Author\":\"Gillian Flynn\", \"Price\":730},\n",
    "         {\"Title\":\"The Silent Patient\", \"Author\":\"Alex Michaelidis\", \"Price\":945},\n",
    "         {\"Title\":\"Before I Go To Sleep\", \"Author\":\"S.J Watson\", \"Price\":400}]"
   ]
  },
  {
   "cell_type": "code",
   "execution_count": null,
   "metadata": {},
   "outputs": [],
   "source": [
    "new_books = list(filter(lambda book: book['Price'] > 500, books))\n",
    "print(new_books)"
   ]
  }
 ],
 "metadata": {
  "kernelspec": {
   "display_name": "Python 3.7 - default",
   "language": "python",
   "name": "py37_default"
  },
  "language_info": {
   "codemirror_mode": {
    "name": "ipython",
    "version": 3
   },
   "file_extension": ".py",
   "mimetype": "text/x-python",
   "name": "python",
   "nbconvert_exporter": "python",
   "pygments_lexer": "ipython3",
   "version": "3.7.7"
  }
 },
 "nbformat": 4,
 "nbformat_minor": 4
}
